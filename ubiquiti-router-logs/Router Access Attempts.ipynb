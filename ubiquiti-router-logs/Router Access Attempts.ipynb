{
 "cells": [
  {
   "cell_type": "markdown",
   "metadata": {},
   "source": [
    "# Overview\n",
    "Connects to a Ubiquiti EdgeOS router via SSH and downloads any log files to a locally concatenated CSV file. The logs are parsed for key fields and some additional fields are created. The second part creates a directed Gephi network file to show connection attempts against various ports. Each IP address has an attribute showing the main destination port by count. IP-port combinations outside the top 10 are not colored. All ports are flagged separately for different coloring."
   ]
  },
  {
   "cell_type": "code",
   "execution_count": null,
   "metadata": {
    "collapsed": true
   },
   "outputs": [],
   "source": [
    "import pandas as pd\n",
    "import paramiko, re, datetime\n",
    "import seaborn as sns\n",
    "import matplotlib.pyplot as plt"
   ]
  },
  {
   "cell_type": "code",
   "execution_count": null,
   "metadata": {
    "collapsed": true
   },
   "outputs": [],
   "source": [
    "ROUTER_IP = '192.168.10.1'\n",
    "\n",
    "rules = {\n",
    "    'rule': re.compile(\"\\[([A-Za-z0-9\\-\\_]*)\\]\"),\n",
    "    'src_ip': re.compile(\"(?<=SRC\\=)(\\d+\\.\\d+\\.\\d+\\.\\d+)\"),\n",
    "    'dst_ip': re.compile(\"(?<=DST\\=)(\\d+\\.\\d+\\.\\d+\\.\\d+)\"),\n",
    "    'protocol': re.compile(\"(?<=PROTO\\=)([A-Z]+)\"),\n",
    "    'src_port': re.compile(\"(?<=SPT\\=)(\\d+)\"),\n",
    "    'dst_port': re.compile(\"(?<=DPT\\=)(\\d+)\")\n",
    "}\n",
    "\n",
    "def get_client(user, password):\n",
    "    client = paramiko.SSHClient()\n",
    "    client.set_missing_host_key_policy(paramiko.AutoAddPolicy())\n",
    "    client.connect(ROUTER_IP ,22, user, password)\n",
    "    return client\n",
    "\n",
    "def get_file_names(client):\n",
    "    path = '/var/log'\n",
    "    pattern = '\"messages*\"'\n",
    "    rawcommand = 'find {path} -name {pattern} -maxdepth 1'\n",
    "    command = rawcommand.format(path=path, pattern=pattern)\n",
    "    stdin, stdout, stderr = client.exec_command(command)\n",
    "    return stdout.read().splitlines()\n"
   ]
  },
  {
   "cell_type": "code",
   "execution_count": null,
   "metadata": {
    "collapsed": true
   },
   "outputs": [],
   "source": [
    "def parse_date(d):\n",
    "    dt = datetime.datetime.strptime(d, \"%b %d %H:%M:%S\")\n",
    "    dt = dt.replace(year=2017)\n",
    "    return dt.strftime(\"%Y/%m/%d %H:%M:%S\")\n",
    "\n",
    "def process_data(user, password, path):\n",
    "    sftp_client = get_client(user, password)\n",
    "    sftp_files = get_file_names(sftp_client)\n",
    "    \n",
    "    sftp_conn = sftp_client.open_sftp()\n",
    "    \n",
    "    lines = []\n",
    "    for f in sftp_files:\n",
    "        fd = sftp_conn.open(f)\n",
    "        for line in fd:\n",
    "            lines.append(line)\n",
    "        fd.close()\n",
    "        print(\"Processed {FILE}\".format(FILE=f))\n",
    "\n",
    "\n",
    "    hout = \"Date,Rule,SourceIp,DestIp,Proto,SourcePort,DestPort\\n\"\n",
    "    lout = \"{D},{RULE},{SIP},{DIP},{P},{SPT},{DPT}\\n\"\n",
    "    \n",
    "    with open(path,'w') as csv:\n",
    "        csv.write(hout)\n",
    "        for l in lines:\n",
    "            dt = parse_date(l[:15])\n",
    "            mrule = rules['rule'].search(l)\n",
    "            msip = rules['src_ip'].search(l)\n",
    "            mdip = rules['dst_ip'].search(l)\n",
    "            mproto = rules['protocol'].search(l)\n",
    "            mspt = rules['src_port'].search(l)\n",
    "            mdpt = rules['dst_port'].search(l)\n",
    "\n",
    "            if mrule and mrule and msip and mdip and mproto and mspt and mdpt:\n",
    "                csv.write(lout.format(\n",
    "                    D=dt,\n",
    "                    RULE=mrule.group(1),\n",
    "                    SIP=msip.group(1),\n",
    "                    DIP=mdip.group(1),\n",
    "                    P=mproto.group(1),\n",
    "                    SPT=mspt.group(1),\n",
    "                    DPT=mdpt.group(1)))\n",
    "    print('Combined {N} log files into {F}'.format(N=len(sftp_files), F=path))"
   ]
  },
  {
   "cell_type": "code",
   "execution_count": null,
   "metadata": {
    "collapsed": true
   },
   "outputs": [],
   "source": [
    "usr = input(\"Username:\")\n",
    "pwd = input(\"Password:\")\n",
    "\n",
    "process_data(usr, pwd, 'logout.csv')"
   ]
  },
  {
   "cell_type": "code",
   "execution_count": null,
   "metadata": {
    "scrolled": true
   },
   "outputs": [],
   "source": [
    "def read_data(path):\n",
    "    d = pd.read_csv(path)\n",
    "    d['DateTime'] = pd.to_datetime(d['Date'])\n",
    "    d['Date'] = d['DateTime'].dt.date\n",
    "    d['Day'] = d['DateTime'].dt.day\n",
    "    d['Dow'] = d['DateTime'].dt.dayofweek\n",
    "    d['Hour'] = d['DateTime'].dt.hour\n",
    "    d['Month'] = d['DateTime'].dt.month\n",
    "    d['Count'] = 1\n",
    "    d['SourceIpFirst3'] = d['SourceIp'].apply(lambda x: '.'.join(x.split('.')[:3]))\n",
    "    d['DestIpFirst3'] = d['DestIp'].apply(lambda x: '.'.join(x.split('.')[:3]))\n",
    "    d = d[d['Rule'] == 'WAN_LOCAL-default-D']\n",
    "    print('Read {N} rows from {P}'.format(N=len(d), P=path))\n",
    "    return d\n",
    "data = read_data('logout.csv')\n",
    "data.head(5)"
   ]
  },
  {
   "cell_type": "code",
   "execution_count": null,
   "metadata": {},
   "outputs": [],
   "source": [
    "top_10_ports = data.groupby('DestPort')['Count'].sum().sort_values(ascending=False).head(10).index.values\n",
    "\n",
    "ip_top_port = data.groupby(['SourceIp','DestPort'])['Count'].sum().reset_index().sort_values(by=['SourceIp','Count'], ascending=[True, False])\n",
    "ip_top_port = ip_top_port.groupby('SourceIp').head(1).set_index('SourceIp')['DestPort']\n",
    "ip_top_port = ip_top_port.apply(lambda x: str(x) if x in top_10_ports else 'Other')\n",
    "\n",
    "edges = data.groupby(['SourceIp','DestPort']).agg({'Count': pd.Series.count}).reset_index().values.tolist()\n",
    "\n",
    "nodes_ip = data['SourceIp'].unique().tolist()\n",
    "nodes_port = data['DestPort'].unique().tolist()"
   ]
  },
  {
   "cell_type": "code",
   "execution_count": null,
   "metadata": {},
   "outputs": [],
   "source": [
    "import networkx as nx\n",
    "G=nx.DiGraph()\n",
    "G.add_weighted_edges_from(edges)\n",
    "\n",
    "for p in nodes_ip:\n",
    "    v = ip_top_port.loc[p]\n",
    "    G.add_node(p, ntype='ip', mport=v)\n",
    "G.add_nodes_from(nodes_port, ntype='port', mport='Port')\n",
    "nx.write_gexf(G, 'output.gexf')"
   ]
  },
  {
   "cell_type": "code",
   "execution_count": null,
   "metadata": {},
   "outputs": [],
   "source": [
    "def plot_top_n(data, column, n, color):\n",
    "    %matplotlib inline\n",
    "    \n",
    "    d = data.groupby(column)['Count'].sum().sort_values(ascending=False).head(n)\n",
    "    x = range(0, n)\n",
    "    x_lab = d.index.values\n",
    "    sns.set_style('white')\n",
    "    plt.figure()\n",
    "    plt.bar(x, d, color=color)\n",
    "    \n",
    "    offset = d.max()*.02\n",
    "    for l in x:\n",
    "        plt.text(l, d.iloc[l] + offset, d.iloc[l], ha='center')\n",
    "    \n",
    "    plt.title('Top {N} Events by {C}'.format(N=n, C=column), fontsize=12)\n",
    "    plt.xticks(x, x_lab, rotation=90)\n",
    "    plt.ylabel('Incident Count')\n",
    "    sns.despine()\n",
    "    plt.savefig('{C}-chart.jpg'.format(C=column))\n",
    "\n",
    "plot_top_n(data, 'SourceIpFirst3', 10, '#CC0000')"
   ]
  },
  {
   "cell_type": "code",
   "execution_count": null,
   "metadata": {},
   "outputs": [],
   "source": [
    "plot_top_n(data, 'DestPort', 10, '#0000CC')"
   ]
  }
 ],
 "metadata": {
  "kernelspec": {
   "display_name": "Python [default]",
   "language": "python",
   "name": "python3"
  },
  "language_info": {
   "codemirror_mode": {
    "name": "ipython",
    "version": 3
   },
   "file_extension": ".py",
   "mimetype": "text/x-python",
   "name": "python",
   "nbconvert_exporter": "python",
   "pygments_lexer": "ipython3",
   "version": "3.5.3"
  }
 },
 "nbformat": 4,
 "nbformat_minor": 2
}
