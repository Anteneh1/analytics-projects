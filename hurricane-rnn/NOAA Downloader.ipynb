{
 "cells": [
  {
   "cell_type": "code",
   "execution_count": 32,
   "metadata": {},
   "outputs": [],
   "source": [
    "import urllib.request as req\n",
    "import re\n",
    "import time\n",
    "import numpy as np"
   ]
  },
  {
   "cell_type": "code",
   "execution_count": 41,
   "metadata": {},
   "outputs": [
    {
     "name": "stdout",
     "output_type": "stream",
     "text": [
      "Found 253 files\n",
      "Wrote 0 for 2006\n",
      "Wrote 10 for 2006\n",
      "Wrote 20 for 2006\n",
      "Wrote 30 for 2006\n",
      "Wrote 40 for 2006\n",
      "Added 50 adv\n",
      "Found 222 files\n",
      "Wrote 0 for 2007\n",
      "Wrote 10 for 2007\n",
      "Wrote 20 for 2007\n",
      "Wrote 30 for 2007\n",
      "Wrote 40 for 2007\n",
      "Added 100 adv\n"
     ]
    }
   ],
   "source": [
    "def get_files(year):\n",
    "    base_url = 'http://ftp.nhc.noaa.gov/atcf/archive/{YEAR}/messages/'\n",
    "    \n",
    "    with req.urlopen(base_url.format(YEAR=year)) as response:\n",
    "        content = response.read().decode('utf-8')\n",
    "    \n",
    "    matches = np.unique(re.findall('al\\d+\\.public\\.\\d+', content))\n",
    "    print('Found {} files'.format(len(matches)))\n",
    "    \n",
    "    i = 0\n",
    "    with open('adv.txt', 'a') as f:\n",
    "        for m in np.random.choice(matches, size=50, replace=False):\n",
    "            with req.urlopen(base_url.format(YEAR=year) + m) as response: \n",
    "                content = response.read().decode('utf-8')\n",
    "            f.write(content)\n",
    "            if i%10==0:\n",
    "                print('Wrote {} for {}'.format(i, year))\n",
    "            time.sleep(0.2)\n",
    "            i+=1\n",
    "    return i\n",
    "        \n",
    "    \n",
    "years = 0\n",
    "for yr in range(2006, 2017):\n",
    "    years += get_files(yr)\n",
    "    print('Added {} adv'.format(years))"
   ]
  },
  {
   "cell_type": "code",
   "execution_count": null,
   "metadata": {
    "collapsed": true
   },
   "outputs": [],
   "source": []
  }
 ],
 "metadata": {
  "kernelspec": {
   "display_name": "Python 3",
   "language": "python",
   "name": "python3"
  },
  "language_info": {
   "codemirror_mode": {
    "name": "ipython",
    "version": 3
   },
   "file_extension": ".py",
   "mimetype": "text/x-python",
   "name": "python",
   "nbconvert_exporter": "python",
   "pygments_lexer": "ipython3",
   "version": "3.5.4"
  }
 },
 "nbformat": 4,
 "nbformat_minor": 2
}
